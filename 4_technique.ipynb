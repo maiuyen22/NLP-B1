{
  "nbformat": 4,
  "nbformat_minor": 0,
  "metadata": {
    "colab": {
      "provenance": []
    },
    "kernelspec": {
      "name": "python3",
      "display_name": "Python 3"
    },
    "language_info": {
      "name": "python"
    }
  },
  "cells": [
    {
      "cell_type": "code",
      "execution_count": null,
      "metadata": {
        "colab": {
          "base_uri": "https://localhost:8080/"
        },
        "id": "HLQ6UaNGycbe",
        "outputId": "3640a3ef-39fb-4bd6-f976-92dda480aa75"
      },
      "outputs": [
        {
          "output_type": "stream",
          "name": "stdout",
          "text": [
            "Drive already mounted at /content/gdrive; to attempt to forcibly remount, call drive.mount(\"/content/gdrive\", force_remount=True).\n",
            "/content/gdrive/My Drive/Sudo code/B1\n"
          ]
        }
      ],
      "source": [
        "# Kết nối Google Drive\n",
        "from google.colab import drive\n",
        "drive.mount('/content/gdrive')\n",
        "# Chỉ định thư mục làm việc hiện hành\n",
        "import os\n",
        "colab_dir = '/content/gdrive/My Drive/Sudo code'\n",
        "my_dir    = '/B1'\n",
        "path      = colab_dir + my_dir\n",
        "\n",
        "# Chuyển thư mục hiện hành\n",
        "%cd $path"
      ]
    },
    {
      "cell_type": "code",
      "source": [
        "import pandas as pd"
      ],
      "metadata": {
        "id": "gAGg951QS7AH"
      },
      "execution_count": null,
      "outputs": []
    },
    {
      "cell_type": "code",
      "source": [
        "df=pd.read_csv('/content/gdrive/MyDrive/Sudo code/B1/news_dataset_processed.csv')"
      ],
      "metadata": {
        "id": "4nj4BaDWS2ch"
      },
      "execution_count": null,
      "outputs": []
    },
    {
      "cell_type": "code",
      "source": [
        "df"
      ],
      "metadata": {
        "colab": {
          "base_uri": "https://localhost:8080/",
          "height": 1000
        },
        "id": "XOLjqxiJGL73",
        "outputId": "9c35bac6-6b81-4b19-d39f-74e65b05db20"
      },
      "execution_count": null,
      "outputs": [
        {
          "output_type": "execute_result",
          "data": {
            "text/plain": [
              "            id           author  \\\n",
              "0       218270              NaN   \n",
              "1       218269       nguồn sina   \n",
              "2       218268        hồ_sỹ_anh   \n",
              "3       218267         ngọc_ánh   \n",
              "4       218266  hải_yến minh lý   \n",
              "...        ...              ...   \n",
              "184534       5       quốc_thắng   \n",
              "184535       4          thảo_mi   \n",
              "184536       3        thanh_tâm   \n",
              "184537       2         lâm_thỏa   \n",
              "184538       1        lang_minh   \n",
              "\n",
              "                                                  content  picture_count  \\\n",
              "0       chiều 31 7 công_an tỉnh thừa_thiên huế thông_t...              3   \n",
              "1       gần thứ_trưởng bộ phát_triển kỹ_thuật_số truyề...              1   \n",
              "2       kết_quả thi tốt_nghiệp thpt 2022 trung_bình mô...              3   \n",
              "3       thống_đốc kentucky andy beshear hôm 31 7 đợt m...              1   \n",
              "4       vụ tai_nạn giao_thông liên_hoàn phố đi tam_bạc...             12   \n",
              "...                                                   ...            ...   \n",
              "184534  chiều 7 6 khoa công_an phú_nhuận phối_hợp công...              2   \n",
              "184535  ngày 7 6 phiên_xử phúc_thẩm tất_thành_cang 50 ...              2   \n",
              "184536  các khu dân_cư thành_phố severodonetsk hoàn_to...              2   \n",
              "184537  việt_nam malaysia 20h tư 8 6 vnexpress malaysi...              2   \n",
              "184538  tôi lập_tức cô_giáo ngữ_văn bảy khói bốc nghi_...              0   \n",
              "\n",
              "        processed        source  \\\n",
              "0               0     docbao.vn   \n",
              "1               0        vtc.vn   \n",
              "2               0  thanhnien.vn   \n",
              "3               0     vnexpress   \n",
              "4               0          soha   \n",
              "...           ...           ...   \n",
              "184534          1     vnexpress   \n",
              "184535          1     vnexpress   \n",
              "184536          1     vnexpress   \n",
              "184537          1     vnexpress   \n",
              "184538          1     vnexpress   \n",
              "\n",
              "                                                    title           topic  \\\n",
              "0       tên cướp tiệm vàng huế đại_uý công_an công_tác...       pháp_luật   \n",
              "1                     bỏ_qua mạng 5g nga tiến thẳng 4g 6g    sống kết_nối   \n",
              "2       địa_phương đứng đầu tổng_điểm 3 môn văn toán n...        giáo_dục   \n",
              "3                           người chết mưa_lũ nghìn mỹ 28        thế_giới   \n",
              "4       hải_phòng hình_ảnh xe điên tai_nạn liên_hoàn p...  thời_sự xã_hội   \n",
              "...                                                   ...             ...   \n",
              "184534                               nghi_can sát_hại bắt       pháp_luật   \n",
              "184535                 ông tất_thành cang đề_nghị giảm_án       pháp_luật   \n",
              "184536  nga tuyên_bố giải_phóng hoàn_toàn khu dân_cư s...        thế_giới   \n",
              "184537              hlv malaysia_dọa ngáng đường việt_nam        thể_thao   \n",
              "184538                         khi giáo_dục thành đối_đầu             góc   \n",
              "\n",
              "                                                      url  \\\n",
              "0       https://docbao.vn/phap-luat/ten-cuop-tiem-vang...   \n",
              "1       https://vtc.vn/bo-qua-mang-5g-nga-tien-thang-t...   \n",
              "2       https://thanhnien.vn/dia-phuong-nao-dung-dau-c...   \n",
              "3       https://vnexpress.net/nguoi-chet-trong-mua-lu-...   \n",
              "4       https://soha.vn/hai-phong-hinh-anh-xe-dien-gay...   \n",
              "...                                                   ...   \n",
              "184534  https://vnexpress.net/nghi-can-sat-hai-cha-bi-...   \n",
              "184535  https://vnexpress.net/ong-tat-thanh-cang-duoc-...   \n",
              "184536  https://vnexpress.net/nga-tuyen-bo-giai-phong-...   \n",
              "184537  https://vnexpress.net/hlv-malaysia-doa-ngang-d...   \n",
              "184538  https://vnexpress.net/khi-giao-duc-thanh-doi-d...   \n",
              "\n",
              "                        crawled_at  \n",
              "0       2022-08-01 09:09:22.817308  \n",
              "1       2022-08-01 09:09:21.181469  \n",
              "2       2022-08-01 09:09:15.311901  \n",
              "3       2022-08-01 09:09:02.211498  \n",
              "4       2022-08-01 09:09:01.601170  \n",
              "...                            ...  \n",
              "184534  2022-06-07 14:05:53.848085  \n",
              "184535  2022-06-07 14:05:53.482540  \n",
              "184536  2022-06-07 14:05:51.797545  \n",
              "184537  2022-06-07 14:05:51.433712  \n",
              "184538  2022-06-07 14:05:50.904322  \n",
              "\n",
              "[184539 rows x 10 columns]"
            ],
            "text/html": [
              "\n",
              "  <div id=\"df-3b4e2253-7247-4bf4-9a32-800466f9a29f\" class=\"colab-df-container\">\n",
              "    <div>\n",
              "<style scoped>\n",
              "    .dataframe tbody tr th:only-of-type {\n",
              "        vertical-align: middle;\n",
              "    }\n",
              "\n",
              "    .dataframe tbody tr th {\n",
              "        vertical-align: top;\n",
              "    }\n",
              "\n",
              "    .dataframe thead th {\n",
              "        text-align: right;\n",
              "    }\n",
              "</style>\n",
              "<table border=\"1\" class=\"dataframe\">\n",
              "  <thead>\n",
              "    <tr style=\"text-align: right;\">\n",
              "      <th></th>\n",
              "      <th>id</th>\n",
              "      <th>author</th>\n",
              "      <th>content</th>\n",
              "      <th>picture_count</th>\n",
              "      <th>processed</th>\n",
              "      <th>source</th>\n",
              "      <th>title</th>\n",
              "      <th>topic</th>\n",
              "      <th>url</th>\n",
              "      <th>crawled_at</th>\n",
              "    </tr>\n",
              "  </thead>\n",
              "  <tbody>\n",
              "    <tr>\n",
              "      <th>0</th>\n",
              "      <td>218270</td>\n",
              "      <td>NaN</td>\n",
              "      <td>chiều 31 7 công_an tỉnh thừa_thiên huế thông_t...</td>\n",
              "      <td>3</td>\n",
              "      <td>0</td>\n",
              "      <td>docbao.vn</td>\n",
              "      <td>tên cướp tiệm vàng huế đại_uý công_an công_tác...</td>\n",
              "      <td>pháp_luật</td>\n",
              "      <td>https://docbao.vn/phap-luat/ten-cuop-tiem-vang...</td>\n",
              "      <td>2022-08-01 09:09:22.817308</td>\n",
              "    </tr>\n",
              "    <tr>\n",
              "      <th>1</th>\n",
              "      <td>218269</td>\n",
              "      <td>nguồn sina</td>\n",
              "      <td>gần thứ_trưởng bộ phát_triển kỹ_thuật_số truyề...</td>\n",
              "      <td>1</td>\n",
              "      <td>0</td>\n",
              "      <td>vtc.vn</td>\n",
              "      <td>bỏ_qua mạng 5g nga tiến thẳng 4g 6g</td>\n",
              "      <td>sống kết_nối</td>\n",
              "      <td>https://vtc.vn/bo-qua-mang-5g-nga-tien-thang-t...</td>\n",
              "      <td>2022-08-01 09:09:21.181469</td>\n",
              "    </tr>\n",
              "    <tr>\n",
              "      <th>2</th>\n",
              "      <td>218268</td>\n",
              "      <td>hồ_sỹ_anh</td>\n",
              "      <td>kết_quả thi tốt_nghiệp thpt 2022 trung_bình mô...</td>\n",
              "      <td>3</td>\n",
              "      <td>0</td>\n",
              "      <td>thanhnien.vn</td>\n",
              "      <td>địa_phương đứng đầu tổng_điểm 3 môn văn toán n...</td>\n",
              "      <td>giáo_dục</td>\n",
              "      <td>https://thanhnien.vn/dia-phuong-nao-dung-dau-c...</td>\n",
              "      <td>2022-08-01 09:09:15.311901</td>\n",
              "    </tr>\n",
              "    <tr>\n",
              "      <th>3</th>\n",
              "      <td>218267</td>\n",
              "      <td>ngọc_ánh</td>\n",
              "      <td>thống_đốc kentucky andy beshear hôm 31 7 đợt m...</td>\n",
              "      <td>1</td>\n",
              "      <td>0</td>\n",
              "      <td>vnexpress</td>\n",
              "      <td>người chết mưa_lũ nghìn mỹ 28</td>\n",
              "      <td>thế_giới</td>\n",
              "      <td>https://vnexpress.net/nguoi-chet-trong-mua-lu-...</td>\n",
              "      <td>2022-08-01 09:09:02.211498</td>\n",
              "    </tr>\n",
              "    <tr>\n",
              "      <th>4</th>\n",
              "      <td>218266</td>\n",
              "      <td>hải_yến minh lý</td>\n",
              "      <td>vụ tai_nạn giao_thông liên_hoàn phố đi tam_bạc...</td>\n",
              "      <td>12</td>\n",
              "      <td>0</td>\n",
              "      <td>soha</td>\n",
              "      <td>hải_phòng hình_ảnh xe điên tai_nạn liên_hoàn p...</td>\n",
              "      <td>thời_sự xã_hội</td>\n",
              "      <td>https://soha.vn/hai-phong-hinh-anh-xe-dien-gay...</td>\n",
              "      <td>2022-08-01 09:09:01.601170</td>\n",
              "    </tr>\n",
              "    <tr>\n",
              "      <th>...</th>\n",
              "      <td>...</td>\n",
              "      <td>...</td>\n",
              "      <td>...</td>\n",
              "      <td>...</td>\n",
              "      <td>...</td>\n",
              "      <td>...</td>\n",
              "      <td>...</td>\n",
              "      <td>...</td>\n",
              "      <td>...</td>\n",
              "      <td>...</td>\n",
              "    </tr>\n",
              "    <tr>\n",
              "      <th>184534</th>\n",
              "      <td>5</td>\n",
              "      <td>quốc_thắng</td>\n",
              "      <td>chiều 7 6 khoa công_an phú_nhuận phối_hợp công...</td>\n",
              "      <td>2</td>\n",
              "      <td>1</td>\n",
              "      <td>vnexpress</td>\n",
              "      <td>nghi_can sát_hại bắt</td>\n",
              "      <td>pháp_luật</td>\n",
              "      <td>https://vnexpress.net/nghi-can-sat-hai-cha-bi-...</td>\n",
              "      <td>2022-06-07 14:05:53.848085</td>\n",
              "    </tr>\n",
              "    <tr>\n",
              "      <th>184535</th>\n",
              "      <td>4</td>\n",
              "      <td>thảo_mi</td>\n",
              "      <td>ngày 7 6 phiên_xử phúc_thẩm tất_thành_cang 50 ...</td>\n",
              "      <td>2</td>\n",
              "      <td>1</td>\n",
              "      <td>vnexpress</td>\n",
              "      <td>ông tất_thành cang đề_nghị giảm_án</td>\n",
              "      <td>pháp_luật</td>\n",
              "      <td>https://vnexpress.net/ong-tat-thanh-cang-duoc-...</td>\n",
              "      <td>2022-06-07 14:05:53.482540</td>\n",
              "    </tr>\n",
              "    <tr>\n",
              "      <th>184536</th>\n",
              "      <td>3</td>\n",
              "      <td>thanh_tâm</td>\n",
              "      <td>các khu dân_cư thành_phố severodonetsk hoàn_to...</td>\n",
              "      <td>2</td>\n",
              "      <td>1</td>\n",
              "      <td>vnexpress</td>\n",
              "      <td>nga tuyên_bố giải_phóng hoàn_toàn khu dân_cư s...</td>\n",
              "      <td>thế_giới</td>\n",
              "      <td>https://vnexpress.net/nga-tuyen-bo-giai-phong-...</td>\n",
              "      <td>2022-06-07 14:05:51.797545</td>\n",
              "    </tr>\n",
              "    <tr>\n",
              "      <th>184537</th>\n",
              "      <td>2</td>\n",
              "      <td>lâm_thỏa</td>\n",
              "      <td>việt_nam malaysia 20h tư 8 6 vnexpress malaysi...</td>\n",
              "      <td>2</td>\n",
              "      <td>1</td>\n",
              "      <td>vnexpress</td>\n",
              "      <td>hlv malaysia_dọa ngáng đường việt_nam</td>\n",
              "      <td>thể_thao</td>\n",
              "      <td>https://vnexpress.net/hlv-malaysia-doa-ngang-d...</td>\n",
              "      <td>2022-06-07 14:05:51.433712</td>\n",
              "    </tr>\n",
              "    <tr>\n",
              "      <th>184538</th>\n",
              "      <td>1</td>\n",
              "      <td>lang_minh</td>\n",
              "      <td>tôi lập_tức cô_giáo ngữ_văn bảy khói bốc nghi_...</td>\n",
              "      <td>0</td>\n",
              "      <td>1</td>\n",
              "      <td>vnexpress</td>\n",
              "      <td>khi giáo_dục thành đối_đầu</td>\n",
              "      <td>góc</td>\n",
              "      <td>https://vnexpress.net/khi-giao-duc-thanh-doi-d...</td>\n",
              "      <td>2022-06-07 14:05:50.904322</td>\n",
              "    </tr>\n",
              "  </tbody>\n",
              "</table>\n",
              "<p>184539 rows × 10 columns</p>\n",
              "</div>\n",
              "    <div class=\"colab-df-buttons\">\n",
              "\n",
              "  <div class=\"colab-df-container\">\n",
              "    <button class=\"colab-df-convert\" onclick=\"convertToInteractive('df-3b4e2253-7247-4bf4-9a32-800466f9a29f')\"\n",
              "            title=\"Convert this dataframe to an interactive table.\"\n",
              "            style=\"display:none;\">\n",
              "\n",
              "  <svg xmlns=\"http://www.w3.org/2000/svg\" height=\"24px\" viewBox=\"0 -960 960 960\">\n",
              "    <path d=\"M120-120v-720h720v720H120Zm60-500h600v-160H180v160Zm220 220h160v-160H400v160Zm0 220h160v-160H400v160ZM180-400h160v-160H180v160Zm440 0h160v-160H620v160ZM180-180h160v-160H180v160Zm440 0h160v-160H620v160Z\"/>\n",
              "  </svg>\n",
              "    </button>\n",
              "\n",
              "  <style>\n",
              "    .colab-df-container {\n",
              "      display:flex;\n",
              "      gap: 12px;\n",
              "    }\n",
              "\n",
              "    .colab-df-convert {\n",
              "      background-color: #E8F0FE;\n",
              "      border: none;\n",
              "      border-radius: 50%;\n",
              "      cursor: pointer;\n",
              "      display: none;\n",
              "      fill: #1967D2;\n",
              "      height: 32px;\n",
              "      padding: 0 0 0 0;\n",
              "      width: 32px;\n",
              "    }\n",
              "\n",
              "    .colab-df-convert:hover {\n",
              "      background-color: #E2EBFA;\n",
              "      box-shadow: 0px 1px 2px rgba(60, 64, 67, 0.3), 0px 1px 3px 1px rgba(60, 64, 67, 0.15);\n",
              "      fill: #174EA6;\n",
              "    }\n",
              "\n",
              "    .colab-df-buttons div {\n",
              "      margin-bottom: 4px;\n",
              "    }\n",
              "\n",
              "    [theme=dark] .colab-df-convert {\n",
              "      background-color: #3B4455;\n",
              "      fill: #D2E3FC;\n",
              "    }\n",
              "\n",
              "    [theme=dark] .colab-df-convert:hover {\n",
              "      background-color: #434B5C;\n",
              "      box-shadow: 0px 1px 3px 1px rgba(0, 0, 0, 0.15);\n",
              "      filter: drop-shadow(0px 1px 2px rgba(0, 0, 0, 0.3));\n",
              "      fill: #FFFFFF;\n",
              "    }\n",
              "  </style>\n",
              "\n",
              "    <script>\n",
              "      const buttonEl =\n",
              "        document.querySelector('#df-3b4e2253-7247-4bf4-9a32-800466f9a29f button.colab-df-convert');\n",
              "      buttonEl.style.display =\n",
              "        google.colab.kernel.accessAllowed ? 'block' : 'none';\n",
              "\n",
              "      async function convertToInteractive(key) {\n",
              "        const element = document.querySelector('#df-3b4e2253-7247-4bf4-9a32-800466f9a29f');\n",
              "        const dataTable =\n",
              "          await google.colab.kernel.invokeFunction('convertToInteractive',\n",
              "                                                    [key], {});\n",
              "        if (!dataTable) return;\n",
              "\n",
              "        const docLinkHtml = 'Like what you see? Visit the ' +\n",
              "          '<a target=\"_blank\" href=https://colab.research.google.com/notebooks/data_table.ipynb>data table notebook</a>'\n",
              "          + ' to learn more about interactive tables.';\n",
              "        element.innerHTML = '';\n",
              "        dataTable['output_type'] = 'display_data';\n",
              "        await google.colab.output.renderOutput(dataTable, element);\n",
              "        const docLink = document.createElement('div');\n",
              "        docLink.innerHTML = docLinkHtml;\n",
              "        element.appendChild(docLink);\n",
              "      }\n",
              "    </script>\n",
              "  </div>\n",
              "\n",
              "\n",
              "<div id=\"df-336726f9-14bf-4c22-b631-0b1a5520f4c7\">\n",
              "  <button class=\"colab-df-quickchart\" onclick=\"quickchart('df-336726f9-14bf-4c22-b631-0b1a5520f4c7')\"\n",
              "            title=\"Suggest charts\"\n",
              "            style=\"display:none;\">\n",
              "\n",
              "<svg xmlns=\"http://www.w3.org/2000/svg\" height=\"24px\"viewBox=\"0 0 24 24\"\n",
              "     width=\"24px\">\n",
              "    <g>\n",
              "        <path d=\"M19 3H5c-1.1 0-2 .9-2 2v14c0 1.1.9 2 2 2h14c1.1 0 2-.9 2-2V5c0-1.1-.9-2-2-2zM9 17H7v-7h2v7zm4 0h-2V7h2v10zm4 0h-2v-4h2v4z\"/>\n",
              "    </g>\n",
              "</svg>\n",
              "  </button>\n",
              "\n",
              "<style>\n",
              "  .colab-df-quickchart {\n",
              "      --bg-color: #E8F0FE;\n",
              "      --fill-color: #1967D2;\n",
              "      --hover-bg-color: #E2EBFA;\n",
              "      --hover-fill-color: #174EA6;\n",
              "      --disabled-fill-color: #AAA;\n",
              "      --disabled-bg-color: #DDD;\n",
              "  }\n",
              "\n",
              "  [theme=dark] .colab-df-quickchart {\n",
              "      --bg-color: #3B4455;\n",
              "      --fill-color: #D2E3FC;\n",
              "      --hover-bg-color: #434B5C;\n",
              "      --hover-fill-color: #FFFFFF;\n",
              "      --disabled-bg-color: #3B4455;\n",
              "      --disabled-fill-color: #666;\n",
              "  }\n",
              "\n",
              "  .colab-df-quickchart {\n",
              "    background-color: var(--bg-color);\n",
              "    border: none;\n",
              "    border-radius: 50%;\n",
              "    cursor: pointer;\n",
              "    display: none;\n",
              "    fill: var(--fill-color);\n",
              "    height: 32px;\n",
              "    padding: 0;\n",
              "    width: 32px;\n",
              "  }\n",
              "\n",
              "  .colab-df-quickchart:hover {\n",
              "    background-color: var(--hover-bg-color);\n",
              "    box-shadow: 0 1px 2px rgba(60, 64, 67, 0.3), 0 1px 3px 1px rgba(60, 64, 67, 0.15);\n",
              "    fill: var(--button-hover-fill-color);\n",
              "  }\n",
              "\n",
              "  .colab-df-quickchart-complete:disabled,\n",
              "  .colab-df-quickchart-complete:disabled:hover {\n",
              "    background-color: var(--disabled-bg-color);\n",
              "    fill: var(--disabled-fill-color);\n",
              "    box-shadow: none;\n",
              "  }\n",
              "\n",
              "  .colab-df-spinner {\n",
              "    border: 2px solid var(--fill-color);\n",
              "    border-color: transparent;\n",
              "    border-bottom-color: var(--fill-color);\n",
              "    animation:\n",
              "      spin 1s steps(1) infinite;\n",
              "  }\n",
              "\n",
              "  @keyframes spin {\n",
              "    0% {\n",
              "      border-color: transparent;\n",
              "      border-bottom-color: var(--fill-color);\n",
              "      border-left-color: var(--fill-color);\n",
              "    }\n",
              "    20% {\n",
              "      border-color: transparent;\n",
              "      border-left-color: var(--fill-color);\n",
              "      border-top-color: var(--fill-color);\n",
              "    }\n",
              "    30% {\n",
              "      border-color: transparent;\n",
              "      border-left-color: var(--fill-color);\n",
              "      border-top-color: var(--fill-color);\n",
              "      border-right-color: var(--fill-color);\n",
              "    }\n",
              "    40% {\n",
              "      border-color: transparent;\n",
              "      border-right-color: var(--fill-color);\n",
              "      border-top-color: var(--fill-color);\n",
              "    }\n",
              "    60% {\n",
              "      border-color: transparent;\n",
              "      border-right-color: var(--fill-color);\n",
              "    }\n",
              "    80% {\n",
              "      border-color: transparent;\n",
              "      border-right-color: var(--fill-color);\n",
              "      border-bottom-color: var(--fill-color);\n",
              "    }\n",
              "    90% {\n",
              "      border-color: transparent;\n",
              "      border-bottom-color: var(--fill-color);\n",
              "    }\n",
              "  }\n",
              "</style>\n",
              "\n",
              "  <script>\n",
              "    async function quickchart(key) {\n",
              "      const quickchartButtonEl =\n",
              "        document.querySelector('#' + key + ' button');\n",
              "      quickchartButtonEl.disabled = true;  // To prevent multiple clicks.\n",
              "      quickchartButtonEl.classList.add('colab-df-spinner');\n",
              "      try {\n",
              "        const charts = await google.colab.kernel.invokeFunction(\n",
              "            'suggestCharts', [key], {});\n",
              "      } catch (error) {\n",
              "        console.error('Error during call to suggestCharts:', error);\n",
              "      }\n",
              "      quickchartButtonEl.classList.remove('colab-df-spinner');\n",
              "      quickchartButtonEl.classList.add('colab-df-quickchart-complete');\n",
              "    }\n",
              "    (() => {\n",
              "      let quickchartButtonEl =\n",
              "        document.querySelector('#df-336726f9-14bf-4c22-b631-0b1a5520f4c7 button');\n",
              "      quickchartButtonEl.style.display =\n",
              "        google.colab.kernel.accessAllowed ? 'block' : 'none';\n",
              "    })();\n",
              "  </script>\n",
              "</div>\n",
              "\n",
              "  <div id=\"id_74c24749-f2a3-4834-a726-6ba0fcc83421\">\n",
              "    <style>\n",
              "      .colab-df-generate {\n",
              "        background-color: #E8F0FE;\n",
              "        border: none;\n",
              "        border-radius: 50%;\n",
              "        cursor: pointer;\n",
              "        display: none;\n",
              "        fill: #1967D2;\n",
              "        height: 32px;\n",
              "        padding: 0 0 0 0;\n",
              "        width: 32px;\n",
              "      }\n",
              "\n",
              "      .colab-df-generate:hover {\n",
              "        background-color: #E2EBFA;\n",
              "        box-shadow: 0px 1px 2px rgba(60, 64, 67, 0.3), 0px 1px 3px 1px rgba(60, 64, 67, 0.15);\n",
              "        fill: #174EA6;\n",
              "      }\n",
              "\n",
              "      [theme=dark] .colab-df-generate {\n",
              "        background-color: #3B4455;\n",
              "        fill: #D2E3FC;\n",
              "      }\n",
              "\n",
              "      [theme=dark] .colab-df-generate:hover {\n",
              "        background-color: #434B5C;\n",
              "        box-shadow: 0px 1px 3px 1px rgba(0, 0, 0, 0.15);\n",
              "        filter: drop-shadow(0px 1px 2px rgba(0, 0, 0, 0.3));\n",
              "        fill: #FFFFFF;\n",
              "      }\n",
              "    </style>\n",
              "    <button class=\"colab-df-generate\" onclick=\"generateWithVariable('df')\"\n",
              "            title=\"Generate code using this dataframe.\"\n",
              "            style=\"display:none;\">\n",
              "\n",
              "  <svg xmlns=\"http://www.w3.org/2000/svg\" height=\"24px\"viewBox=\"0 0 24 24\"\n",
              "       width=\"24px\">\n",
              "    <path d=\"M7,19H8.4L18.45,9,17,7.55,7,17.6ZM5,21V16.75L18.45,3.32a2,2,0,0,1,2.83,0l1.4,1.43a1.91,1.91,0,0,1,.58,1.4,1.91,1.91,0,0,1-.58,1.4L9.25,21ZM18.45,9,17,7.55Zm-12,3A5.31,5.31,0,0,0,4.9,8.1,5.31,5.31,0,0,0,1,6.5,5.31,5.31,0,0,0,4.9,4.9,5.31,5.31,0,0,0,6.5,1,5.31,5.31,0,0,0,8.1,4.9,5.31,5.31,0,0,0,12,6.5,5.46,5.46,0,0,0,6.5,12Z\"/>\n",
              "  </svg>\n",
              "    </button>\n",
              "    <script>\n",
              "      (() => {\n",
              "      const buttonEl =\n",
              "        document.querySelector('#id_74c24749-f2a3-4834-a726-6ba0fcc83421 button.colab-df-generate');\n",
              "      buttonEl.style.display =\n",
              "        google.colab.kernel.accessAllowed ? 'block' : 'none';\n",
              "\n",
              "      buttonEl.onclick = () => {\n",
              "        google.colab.notebook.generateWithVariable('df');\n",
              "      }\n",
              "      })();\n",
              "    </script>\n",
              "  </div>\n",
              "\n",
              "    </div>\n",
              "  </div>\n"
            ],
            "application/vnd.google.colaboratory.intrinsic+json": {
              "type": "dataframe",
              "variable_name": "df"
            }
          },
          "metadata": {},
          "execution_count": 18
        }
      ]
    },
    {
      "cell_type": "code",
      "source": [
        "column_names = df.columns\n",
        "print(column_names)"
      ],
      "metadata": {
        "id": "Zy2l1h48INna",
        "colab": {
          "base_uri": "https://localhost:8080/"
        },
        "outputId": "8df31cee-16e5-4e0b-ad0c-f8788f7dd375"
      },
      "execution_count": null,
      "outputs": [
        {
          "output_type": "stream",
          "name": "stdout",
          "text": [
            "Index(['id', 'author', 'content', 'picture_count', 'processed', 'source',\n",
            "       'title', 'topic', 'url', 'crawled_at'],\n",
            "      dtype='object')\n"
          ]
        }
      ]
    },
    {
      "cell_type": "markdown",
      "source": [
        "Xử lý các cột dữ liệu theo data type"
      ],
      "metadata": {
        "id": "hq9hsC0iJ5GN"
      }
    },
    {
      "cell_type": "code",
      "source": [
        "!pip install pyvi\n",
        "import unicodedata\n",
        "import regex as re\n",
        "from pyvi import ViTokenizer, ViPosTagger"
      ],
      "metadata": {
        "colab": {
          "base_uri": "https://localhost:8080/"
        },
        "id": "74Yr6qfGb3DC",
        "outputId": "71cc5663-0302-47f4-ed38-b9d8e8f34743"
      },
      "execution_count": null,
      "outputs": [
        {
          "output_type": "stream",
          "name": "stdout",
          "text": [
            "Requirement already satisfied: pyvi in /usr/local/lib/python3.10/dist-packages (0.1.1)\n",
            "Requirement already satisfied: scikit-learn in /usr/local/lib/python3.10/dist-packages (from pyvi) (1.3.2)\n",
            "Requirement already satisfied: sklearn-crfsuite in /usr/local/lib/python3.10/dist-packages (from pyvi) (0.5.0)\n",
            "Requirement already satisfied: numpy<2.0,>=1.17.3 in /usr/local/lib/python3.10/dist-packages (from scikit-learn->pyvi) (1.26.4)\n",
            "Requirement already satisfied: scipy>=1.5.0 in /usr/local/lib/python3.10/dist-packages (from scikit-learn->pyvi) (1.13.1)\n",
            "Requirement already satisfied: joblib>=1.1.1 in /usr/local/lib/python3.10/dist-packages (from scikit-learn->pyvi) (1.4.2)\n",
            "Requirement already satisfied: threadpoolctl>=2.0.0 in /usr/local/lib/python3.10/dist-packages (from scikit-learn->pyvi) (3.5.0)\n",
            "Requirement already satisfied: python-crfsuite>=0.9.7 in /usr/local/lib/python3.10/dist-packages (from sklearn-crfsuite->pyvi) (0.9.10)\n",
            "Requirement already satisfied: tabulate>=0.4.2 in /usr/local/lib/python3.10/dist-packages (from sklearn-crfsuite->pyvi) (0.9.0)\n",
            "Requirement already satisfied: tqdm>=2.0 in /usr/local/lib/python3.10/dist-packages (from sklearn-crfsuite->pyvi) (4.66.5)\n"
          ]
        }
      ]
    },
    {
      "cell_type": "markdown",
      "source": [],
      "metadata": {
        "id": "9NqHDqoQo1_w"
      }
    },
    {
      "cell_type": "code",
      "source": [
        "# Replace NaN values with empty strings\n",
        "df['content'] = df['content'].fillna('')\n"
      ],
      "metadata": {
        "id": "hhw7jowEXpPo"
      },
      "execution_count": null,
      "outputs": []
    },
    {
      "cell_type": "code",
      "source": [
        "df['content'] = df['content'].str.replace(r'\\d+', '', regex=True)"
      ],
      "metadata": {
        "id": "DKwQn3HBvLFK"
      },
      "execution_count": null,
      "outputs": []
    },
    {
      "cell_type": "code",
      "source": [
        "from sklearn.feature_extraction.text import CountVectorizer, TfidfVectorizer, HashingVectorizer\n"
      ],
      "metadata": {
        "id": "Fzmfzey-oyT1"
      },
      "execution_count": null,
      "outputs": []
    },
    {
      "cell_type": "code",
      "source": [
        "from sklearn.feature_extraction import DictVectorizer\n",
        "# Create a list of dictionaries from the 'content' column\n",
        "content_list = [{'content': text} for text in df['content']]\n",
        "vec = DictVectorizer()\n",
        "\n",
        "# Fit and transform the list of dictionaries\n",
        "vec.fit_transform(content_list).toarray()"
      ],
      "metadata": {
        "colab": {
          "base_uri": "https://localhost:8080/"
        },
        "id": "G8HqhJpDpt8k",
        "outputId": "934d1d45-a04c-4d8f-baab-991114a1af24"
      },
      "execution_count": null,
      "outputs": [
        {
          "output_type": "execute_result",
          "data": {
            "text/plain": [
              "array([[0., 0., 0., ..., 0., 0., 0.],\n",
              "       [0., 0., 0., ..., 0., 0., 0.],\n",
              "       [0., 0., 0., ..., 0., 0., 0.],\n",
              "       ...,\n",
              "       [0., 0., 0., ..., 0., 0., 0.],\n",
              "       [0., 0., 0., ..., 0., 0., 0.],\n",
              "       [0., 0., 0., ..., 0., 0., 0.]])"
            ]
          },
          "metadata": {},
          "execution_count": 24
        }
      ]
    },
    {
      "cell_type": "code",
      "source": [
        "def feature_hashing(texts, n_features=2**10):\n",
        "    \"\"\"Apply feature hashing.\"\"\"\n",
        "    hasher = HashingVectorizer(n_features=n_features, alternate_sign=False)\n",
        "    return hasher.fit_transform(texts)\n"
      ],
      "metadata": {
        "id": "EifjSCMQqDx2"
      },
      "execution_count": null,
      "outputs": []
    },
    {
      "cell_type": "code",
      "source": [
        "from sklearn.feature_extraction.text import CountVectorizer"
      ],
      "metadata": {
        "id": "kZsKvGCIq3KT"
      },
      "execution_count": null,
      "outputs": []
    },
    {
      "cell_type": "code",
      "source": [
        "vectorizer = CountVectorizer()\n",
        "vectorizer"
      ],
      "metadata": {
        "colab": {
          "base_uri": "https://localhost:8080/",
          "height": 74
        },
        "id": "syfemzhpq6Zu",
        "outputId": "2b4a28e4-e1a0-478a-ec86-d61745c91360"
      },
      "execution_count": null,
      "outputs": [
        {
          "output_type": "execute_result",
          "data": {
            "text/plain": [
              "CountVectorizer()"
            ],
            "text/html": [
              "<style>#sk-container-id-2 {color: black;}#sk-container-id-2 pre{padding: 0;}#sk-container-id-2 div.sk-toggleable {background-color: white;}#sk-container-id-2 label.sk-toggleable__label {cursor: pointer;display: block;width: 100%;margin-bottom: 0;padding: 0.3em;box-sizing: border-box;text-align: center;}#sk-container-id-2 label.sk-toggleable__label-arrow:before {content: \"▸\";float: left;margin-right: 0.25em;color: #696969;}#sk-container-id-2 label.sk-toggleable__label-arrow:hover:before {color: black;}#sk-container-id-2 div.sk-estimator:hover label.sk-toggleable__label-arrow:before {color: black;}#sk-container-id-2 div.sk-toggleable__content {max-height: 0;max-width: 0;overflow: hidden;text-align: left;background-color: #f0f8ff;}#sk-container-id-2 div.sk-toggleable__content pre {margin: 0.2em;color: black;border-radius: 0.25em;background-color: #f0f8ff;}#sk-container-id-2 input.sk-toggleable__control:checked~div.sk-toggleable__content {max-height: 200px;max-width: 100%;overflow: auto;}#sk-container-id-2 input.sk-toggleable__control:checked~label.sk-toggleable__label-arrow:before {content: \"▾\";}#sk-container-id-2 div.sk-estimator input.sk-toggleable__control:checked~label.sk-toggleable__label {background-color: #d4ebff;}#sk-container-id-2 div.sk-label input.sk-toggleable__control:checked~label.sk-toggleable__label {background-color: #d4ebff;}#sk-container-id-2 input.sk-hidden--visually {border: 0;clip: rect(1px 1px 1px 1px);clip: rect(1px, 1px, 1px, 1px);height: 1px;margin: -1px;overflow: hidden;padding: 0;position: absolute;width: 1px;}#sk-container-id-2 div.sk-estimator {font-family: monospace;background-color: #f0f8ff;border: 1px dotted black;border-radius: 0.25em;box-sizing: border-box;margin-bottom: 0.5em;}#sk-container-id-2 div.sk-estimator:hover {background-color: #d4ebff;}#sk-container-id-2 div.sk-parallel-item::after {content: \"\";width: 100%;border-bottom: 1px solid gray;flex-grow: 1;}#sk-container-id-2 div.sk-label:hover label.sk-toggleable__label {background-color: #d4ebff;}#sk-container-id-2 div.sk-serial::before {content: \"\";position: absolute;border-left: 1px solid gray;box-sizing: border-box;top: 0;bottom: 0;left: 50%;z-index: 0;}#sk-container-id-2 div.sk-serial {display: flex;flex-direction: column;align-items: center;background-color: white;padding-right: 0.2em;padding-left: 0.2em;position: relative;}#sk-container-id-2 div.sk-item {position: relative;z-index: 1;}#sk-container-id-2 div.sk-parallel {display: flex;align-items: stretch;justify-content: center;background-color: white;position: relative;}#sk-container-id-2 div.sk-item::before, #sk-container-id-2 div.sk-parallel-item::before {content: \"\";position: absolute;border-left: 1px solid gray;box-sizing: border-box;top: 0;bottom: 0;left: 50%;z-index: -1;}#sk-container-id-2 div.sk-parallel-item {display: flex;flex-direction: column;z-index: 1;position: relative;background-color: white;}#sk-container-id-2 div.sk-parallel-item:first-child::after {align-self: flex-end;width: 50%;}#sk-container-id-2 div.sk-parallel-item:last-child::after {align-self: flex-start;width: 50%;}#sk-container-id-2 div.sk-parallel-item:only-child::after {width: 0;}#sk-container-id-2 div.sk-dashed-wrapped {border: 1px dashed gray;margin: 0 0.4em 0.5em 0.4em;box-sizing: border-box;padding-bottom: 0.4em;background-color: white;}#sk-container-id-2 div.sk-label label {font-family: monospace;font-weight: bold;display: inline-block;line-height: 1.2em;}#sk-container-id-2 div.sk-label-container {text-align: center;}#sk-container-id-2 div.sk-container {/* jupyter's `normalize.less` sets `[hidden] { display: none; }` but bootstrap.min.css set `[hidden] { display: none !important; }` so we also need the `!important` here to be able to override the default hidden behavior on the sphinx rendered scikit-learn.org. See: https://github.com/scikit-learn/scikit-learn/issues/21755 */display: inline-block !important;position: relative;}#sk-container-id-2 div.sk-text-repr-fallback {display: none;}</style><div id=\"sk-container-id-2\" class=\"sk-top-container\"><div class=\"sk-text-repr-fallback\"><pre>CountVectorizer()</pre><b>In a Jupyter environment, please rerun this cell to show the HTML representation or trust the notebook. <br />On GitHub, the HTML representation is unable to render, please try loading this page with nbviewer.org.</b></div><div class=\"sk-container\" hidden><div class=\"sk-item\"><div class=\"sk-estimator sk-toggleable\"><input class=\"sk-toggleable__control sk-hidden--visually\" id=\"sk-estimator-id-2\" type=\"checkbox\" checked><label for=\"sk-estimator-id-2\" class=\"sk-toggleable__label sk-toggleable__label-arrow\">CountVectorizer</label><div class=\"sk-toggleable__content\"><pre>CountVectorizer()</pre></div></div></div></div></div>"
            ]
          },
          "metadata": {},
          "execution_count": 27
        }
      ]
    },
    {
      "cell_type": "code",
      "source": [
        "X = vectorizer.fit_transform(df['content'])"
      ],
      "metadata": {
        "id": "5pDY8oPQq9kc"
      },
      "execution_count": null,
      "outputs": []
    },
    {
      "cell_type": "code",
      "source": [
        "print(X.get_feature_names_out())"
      ],
      "metadata": {
        "id": "nfSiSIiSrMyE"
      },
      "execution_count": null,
      "outputs": []
    },
    {
      "cell_type": "code",
      "source": [
        "# Tạo một đối tượng Bag of Words với Bigram\n",
        "vectorizer_bigram = CountVectorizer(ngram_range=(1, 2), max_features=1000)  # Xét bigram\n",
        "bigram_matrix = vectorizer_bigram.fit_transform(df['content'])\n",
        "\n",
        "# Xem từ điển của Bigram\n",
        "bigram_features = vectorizer_bigram.get_feature_names_out()\n",
        "print(bigram_matrix.toarray())  # In ra ma trận bigram\n"
      ],
      "metadata": {
        "colab": {
          "base_uri": "https://localhost:8080/"
        },
        "id": "pI7jFnZHtREQ",
        "outputId": "960c1be0-0400-4bed-9388-5f07251ac6c8"
      },
      "execution_count": null,
      "outputs": [
        {
          "output_type": "stream",
          "name": "stdout",
          "text": [
            "[[0 0 0 ... 0 0 0]\n",
            " [0 0 0 ... 0 0 0]\n",
            " [0 0 0 ... 0 0 0]\n",
            " ...\n",
            " [0 0 0 ... 0 0 0]\n",
            " [0 0 0 ... 0 0 0]\n",
            " [0 0 0 ... 0 0 0]]\n"
          ]
        }
      ]
    },
    {
      "cell_type": "code",
      "source": [
        "X_2 = vectorizer_bigram.fit_transform(df['content']).toarray()\n",
        "X_2"
      ],
      "metadata": {
        "colab": {
          "base_uri": "https://localhost:8080/"
        },
        "id": "DoeP2xn_tyR0",
        "outputId": "07d17fa0-e79c-4854-9ad2-26d2a37d87ca"
      },
      "execution_count": null,
      "outputs": [
        {
          "output_type": "execute_result",
          "data": {
            "text/plain": [
              "array([[0, 0, 0, ..., 0, 0, 0],\n",
              "       [0, 0, 0, ..., 0, 0, 0],\n",
              "       [0, 0, 0, ..., 0, 0, 0],\n",
              "       ...,\n",
              "       [0, 0, 0, ..., 0, 0, 0],\n",
              "       [0, 0, 0, ..., 0, 0, 0],\n",
              "       [0, 0, 0, ..., 0, 0, 0]])"
            ]
          },
          "metadata": {},
          "execution_count": 31
        }
      ]
    },
    {
      "cell_type": "code",
      "source": [
        "from sklearn.feature_extraction.text import HashingVectorizer\n",
        "\n",
        "# Tạo đối tượng HashingVectorizer\n",
        "vectorizer_hashing = HashingVectorizer(n_features=1000)  # Số lượng tính năng (feature) là 1000\n",
        "hashing_matrix = vectorizer_hashing.fit_transform(df['content'])\n",
        "\n",
        "# Kết quả là một ma trận, nhưng không có từ điển do sử dụng hàm băm\n",
        "print(hashing_matrix.toarray())  # In ra ma trận hashing\n"
      ],
      "metadata": {
        "colab": {
          "base_uri": "https://localhost:8080/"
        },
        "id": "IvD4HWafuI3x",
        "outputId": "2f02e309-920a-444d-f8ac-281c4fb47b26"
      },
      "execution_count": null,
      "outputs": [
        {
          "output_type": "stream",
          "name": "stdout",
          "text": [
            "[[ 0.          0.         -0.1099115  ...  0.          0.\n",
            "   0.        ]\n",
            " [ 0.06119901  0.          0.         ...  0.          0.\n",
            "   0.        ]\n",
            " [ 0.          0.          0.         ... -0.01907272  0.\n",
            "   0.        ]\n",
            " ...\n",
            " [ 0.          0.          0.         ...  0.          0.\n",
            "   0.        ]\n",
            " [ 0.          0.          0.         ...  0.          0.\n",
            "   0.        ]\n",
            " [ 0.          0.          0.         ...  0.02557386  0.\n",
            "   0.        ]]\n"
          ]
        }
      ]
    },
    {
      "cell_type": "code",
      "source": [
        "from sklearn.feature_extraction.text import TfidfVectorizer\n",
        "\n",
        "# Tạo đối tượng TfidfVectorizer\n",
        "vectorizer_tfidf = TfidfVectorizer(max_features=1000)  # Lấy 1000 từ thông dụng nhất\n",
        "tfidf_matrix = vectorizer_tfidf.fit_transform(df['content'])\n",
        "\n",
        "# Xem từ điển TF-IDF\n",
        "tfidf_features = vectorizer_tfidf.get_feature_names_out()\n",
        "print(tfidf_matrix.toarray())  # In ra ma trận tf-idf\n"
      ],
      "metadata": {
        "colab": {
          "base_uri": "https://localhost:8080/"
        },
        "id": "7KHsg1BEuMHU",
        "outputId": "f8b85ea4-ae39-4ac5-edcd-30e9bf009ba8"
      },
      "execution_count": null,
      "outputs": [
        {
          "output_type": "stream",
          "name": "stdout",
          "text": [
            "[[0. 0. 0. ... 0. 0. 0.]\n",
            " [0. 0. 0. ... 0. 0. 0.]\n",
            " [0. 0. 0. ... 0. 0. 0.]\n",
            " ...\n",
            " [0. 0. 0. ... 0. 0. 0.]\n",
            " [0. 0. 0. ... 0. 0. 0.]\n",
            " [0. 0. 0. ... 0. 0. 0.]]\n"
          ]
        }
      ]
    }
  ]
}